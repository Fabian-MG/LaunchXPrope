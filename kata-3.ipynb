{
 "cells": [
  {
   "cell_type": "markdown",
   "metadata": {},
   "source": [
    "# Ejercicio 1"
   ]
  },
  {
   "cell_type": "code",
   "execution_count": null,
   "metadata": {},
   "outputs": [],
   "source": [
    "asteroid_vel = 0\n",
    "\n",
    "if asteroid_vel > 25:\n",
    "    print(\"¡Ese asteroide se acerca rápidamente!\")\n",
    "else:\n",
    "    print(\"¡Que lindo esta el cielo!\")\n"
   ]
  },
  {
   "cell_type": "markdown",
   "metadata": {},
   "source": [
    "# Ejercicio 2"
   ]
  },
  {
   "cell_type": "code",
   "execution_count": 1,
   "metadata": {},
   "outputs": [
    {
     "name": "stdout",
     "output_type": "stream",
     "text": [
      "¡Que lindo esta el cielo!\n"
     ]
    }
   ],
   "source": [
    "asteroid_vel = 19\n",
    "\n",
    "if asteroid_vel >= 20:\n",
    "    print(\"¡Miren ese rayo de luz en el cielo!\")\n",
    "else:\n",
    "    print(\"¡Que lindo esta el cielo!\")\n"
   ]
  },
  {
   "cell_type": "markdown",
   "metadata": {},
   "source": [
    "# Ejercicio 3"
   ]
  },
  {
   "cell_type": "code",
   "execution_count": null,
   "metadata": {},
   "outputs": [],
   "source": [
    "asteroid_vel = 60\n",
    "asteroid_size  = 100\n",
    "\n",
    "if asteroid_vel > 25 and asteroid_size > 25:\n",
    "    print(\"¡!\")\n",
    "elif asteroid_vel >= 20:\n",
    "    print(\"¡Miren ese rayo de luz en el cielo!\")\n",
    "elif asteroid_size  < 25:\n",
    "    print('Es un día normal')"
   ]
  }
 ],
 "metadata": {
  "interpreter": {
   "hash": "b0fa6594d8f4cbf19f97940f81e996739fb7646882a419484c72d19e05852a7e"
  },
  "kernelspec": {
   "display_name": "Python 3.9.7 64-bit",
   "language": "python",
   "name": "python3"
  },
  "language_info": {
   "codemirror_mode": {
    "name": "ipython",
    "version": 3
   },
   "file_extension": ".py",
   "mimetype": "text/x-python",
   "name": "python",
   "nbconvert_exporter": "python",
   "pygments_lexer": "ipython3",
   "version": "3.9.7"
  },
  "orig_nbformat": 4
 },
 "nbformat": 4,
 "nbformat_minor": 2
}
